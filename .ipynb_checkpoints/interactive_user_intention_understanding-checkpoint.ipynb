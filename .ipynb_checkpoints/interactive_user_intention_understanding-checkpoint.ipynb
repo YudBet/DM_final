{
 "cells": [
  {
   "cell_type": "code",
   "execution_count": 1,
   "metadata": {
    "collapsed": false
   },
   "outputs": [
    {
     "name": "stdout",
     "output_type": "stream",
     "text": [
      "[[ 0.  0.  0.  0.  0.  0.  0.  0.  0.  0.]\n",
      " [ 1.  0.  0.  0.  0.  0.  0.  1.  0.  0.]\n",
      " [ 0.  0.  0.  0.  0.  0.  0.  0.  0.  0.]\n",
      " [ 0.  1.  0.  0.  1.  0.  0.  0.  0.  0.]\n",
      " [ 0.  0.  0.  0.  0.  0.  0.  0.  0.  0.]\n",
      " [ 0.  0.  0.  0.  0.  0.  0.  0.  0.  0.]\n",
      " [ 0.  0.  0.  0.  0.  0.  0.  0.  0.  0.]\n",
      " [ 0.  0.  1.  1.  0.  0.  0.  0.  0.  1.]\n",
      " [ 0.  0.  0.  0.  0.  1.  0.  0.  0.  1.]\n",
      " [ 1.  0.  0.  0.  0.  0.  0.  0.  0.  0.]]\n"
     ]
    }
   ],
   "source": [
    "from scipy import sparse\n",
    "\n",
    "def gen_rand_sparse_mat(m, n, density):\n",
    "    M = sparse.rand(m, n, density=density)\n",
    "    M.data[:] = 1\n",
    "    return M\n",
    "\n",
    "X = gen_rand_sparse_mat(10, 10, 0.1)\n",
    "print X.toarray()"
   ]
  },
  {
   "cell_type": "code",
   "execution_count": 61,
   "metadata": {
    "collapsed": false
   },
   "outputs": [
    {
     "name": "stdout",
     "output_type": "stream",
     "text": [
      "[[ 0.  0.  0. ...,  0.  1.  1.]\n",
      " [ 1.  0.  0. ...,  0.  0.  1.]\n",
      " [ 1.  0.  0. ...,  0.  0.  0.]\n",
      " ..., \n",
      " [ 0.  0.  0. ...,  1.  0.  0.]\n",
      " [ 0.  0.  0. ...,  0.  0.  0.]\n",
      " [ 0.  0.  1. ...,  0.  0.  0.]]\n"
     ]
    }
   ],
   "source": [
    "#TAGS = ['A', 'B', 'C', 'D', 'E', 'F', 'G', 'H', 'I', 'J']\n",
    "ITEMS = range(1000)\n",
    "TAGS = range(100)\n",
    "ITEM_COUNT = len(ITEMS)\n",
    "TAG_COUNT = len(TAGS)\n",
    "DENSITY = 0.15\n",
    "\n",
    "# X: tag matrix\n",
    "# T: maximun number of questions\n",
    "# GAMMA: discount factor\n",
    "X = gen_rand_sparse_mat(ITEM_COUNT, TAG_COUNT, DENSITY)\n",
    "T = 5\n",
    "GAMMA = 0.75\n",
    "\n",
    "print X.toarray()"
   ]
  },
  {
   "cell_type": "code",
   "execution_count": 47,
   "metadata": {
    "collapsed": false
   },
   "outputs": [
    {
     "name": "stdout",
     "output_type": "stream",
     "text": [
      "8\n"
     ]
    }
   ],
   "source": [
    "import numpy as np\n",
    "from scipy import sparse\n",
    "\n",
    "def questionSellectionAlgo_greedy(X, w, qs):\n",
    "    X_qs = X.toarray()[:, qs]\n",
    "    E = np.dot(w, X_qs) / np.dot(w, X_qs).sum()\n",
    "    q = np.argmin(np.fabs(E - 0.5))\n",
    "        \n",
    "    return qs[q]\n",
    "    \n",
    "print questionSellectionAlgo_greedy(X, np.ones(ITEM_COUNT), range(TAG_COUNT))"
   ]
  },
  {
   "cell_type": "code",
   "execution_count": 29,
   "metadata": {
    "collapsed": false
   },
   "outputs": [
    {
     "name": "stdout",
     "output_type": "stream",
     "text": [
      "[47, 93]\n"
     ]
    }
   ],
   "source": [
    "\n",
    "def questionSellectionAlgo_ihs_exhaustion(X, GAMMA, w, qs, k):\n",
    "    ls = (((np.array(range(2**k))[:,None] & (1 << np.arange(k)))) > 0).astype(int)\n",
    "    qks = [qk for qk in itertools.combinations(qs, k)]\n",
    "    \n",
    "    min_ls = []\n",
    "    for qk in qks:   \n",
    "        X_qk = X.toarray()[:, [qs[q] for q in qk]].astype(int)\n",
    "        \n",
    "        ls_ds = []\n",
    "        for l in ls:\n",
    "            dcs = [np.bitwise_xor(l, X_qki).sum() for X_qki in X_qk]\n",
    "            d = (w*[1 - GAMMA**dc for dc in dcs]).sum()\n",
    "            ls_ds.append(d)\n",
    "        min_ls.append(np.min(ls_ds))\n",
    "    \n",
    "    Q = np.argmax(min_ls)\n",
    "    \n",
    "    return [qs[q] for q in qks[Q]]\n",
    "\n",
    "# may take about 2 min for k=2 on 4G RAM\n",
    "#print questionSellectionAlgo_ihs_exhaustion(X, GAMMA, np.ones(ITEM_COUNT), range(TAG_COUNT), 2)"
   ]
  },
  {
   "cell_type": "code",
   "execution_count": 500,
   "metadata": {
    "collapsed": false
   },
   "outputs": [
    {
     "name": "stdout",
     "output_type": "stream",
     "text": [
      "[16 21]\n"
     ]
    }
   ],
   "source": [
    "import random\n",
    "\n",
    "def jump_prob(e, enew, T):\n",
    "    if enew < e: \n",
    "        return 1\n",
    "    else:\n",
    "        return np.exp((e-enew)/T)\n",
    "\n",
    "def compute_min_d(X_qk, GAMMA, w, ls):\n",
    "    ls_ds = []\n",
    "    for l in ls:\n",
    "        dcs = [np.bitwise_xor(l, X_qk.astype(int)).sum()]\n",
    "        d = (w*[1 - GAMMA**dc for dc in dcs]).sum()\n",
    "        ls_ds.append(d)\n",
    "    return np.min(ls_ds)\n",
    "\n",
    "def questionSellectionAlgo_ihs_sa(X, GAMMA, w, qs, k, I, T):\n",
    "    ls = (((np.array(range(2**k))[:,None] & (1 << np.arange(k)))) > 0).astype(int)\n",
    "    qk = np.random.choice(qs, k, replace=False)\n",
    "    X_qk = X.toarray()[:, qk]\n",
    "    min_d = compute_min_d(X_qk, GAMMA, w, ls)\n",
    "    t = T\n",
    "    \n",
    "    qk_best = qk\n",
    "    for i in range(I):\n",
    "        qk_n = np.array(qk)\n",
    "        qk_n[np.random.choice(k)] = np.random.choice(np.setdiff1d(qs, qk))\n",
    "        X_qk_n = X.toarray()[:, qk_n]\n",
    "        min_d_n = compute_min_d(X_qk_n, GAMMA, w, ls)\n",
    "        \n",
    "        t = t*0.9\n",
    "        if jump_prob(min_d, min_d_n, t) > np.random.rand(1):\n",
    "            qk = qk_n\n",
    "        if min_d_n > min_d:\n",
    "            min_d = min_d_n\n",
    "            qk_best = qk_n\n",
    "     \n",
    "    return qk_best\n",
    "\n",
    "print questionSellectionAlgo_ihs_sa(X, GAMMA, np.ones(ITEM_COUNT), range(TAG_COUNT), 2, 1000, 100)"
   ]
  },
  {
   "cell_type": "code",
   "execution_count": null,
   "metadata": {
    "collapsed": false
   },
   "outputs": [],
   "source": [
    "\n",
    "def interactiveRecommandation(X, T, GAMMA):\n",
    "    r_qs = np.array(range(TAG_COUNT)) # remain questions: had not asked\n",
    "    w = np.ones(ITEM_COUNT)\n",
    "    t = 0\n",
    "    for t in range(T):\n",
    "        q = questionSellectionAlgo_greedy(X, w, r_qs)\n",
    "        r_qs = r_qs[r_qs != q]\n",
    "        \n",
    "        X_q = X.toarray()[:, q]\n",
    "        \n",
    "        ans = raw_input('has ' + str(TAGS[q]) + '? (0/1): ')\n",
    "        g = np.ones(ITEM_COUNT)\n",
    "        if ans == '1':\n",
    "            g = X_q\n",
    "        else:\n",
    "            g = (1 - X_q)\n",
    "        g[g < 1] = GAMMA\n",
    "        w = w*g\n",
    "        \n",
    "        print X_q\n",
    "        print g\n",
    "        print 'W: ', w\n",
    "    return w\n",
    "\n",
    "interactiveRecommandation(X, T, GAMMA)"
   ]
  },
  {
   "cell_type": "code",
   "execution_count": null,
   "metadata": {
    "collapsed": false
   },
   "outputs": [],
   "source": [
    "\"\"\" test case\n",
    "from scipy.sparse import coo_matrix\n",
    "\n",
    "X = coo_matrix(np.matrix([\n",
    "    [1., 1., 1., 0., 0., 0., 0., 0., 1., 0., 0.],\n",
    "    [0., 0., 0., 0., 0., 0., 1., 0., 0., 0., 0.],\n",
    "    [1., 0., 0., 0., 0., 0., 0., 0., 1., 0., 0.],\n",
    "    [0., 0., 0., 1., 1., 0., 0., 0., 1., 0., 0.],\n",
    "    [0., 1., 0., 0., 0., 0., 0., 0., 1., 1., 0.],\n",
    "    [0., 0., 1., 1., 0., 0., 1., 1., 1., 0., 0.],\n",
    "    [0., 0., 0., 0., 0., 1., 0., 0., 0., 0., 0.],\n",
    "    [0., 1., 0., 0., 0., 0., 1., 0., 0., 0., 0.],\n",
    "    [0., 0., 0., 0., 1., 0., 1., 0., 0., 0., 0.],\n",
    "    [0., 0., 1., 0., 1., 1., 0., 0., 0., 1., 0.]\n",
    "]))\n",
    "TAG_COUNT = ITEM_COUNT = 10\n",
    "GAMMA = 0.5\n",
    "T = 10\n",
    "\"\"\""
   ]
  }
 ],
 "metadata": {
  "kernelspec": {
   "display_name": "Python [Root]",
   "language": "python",
   "name": "Python [Root]"
  },
  "language_info": {
   "codemirror_mode": {
    "name": "ipython",
    "version": 2
   },
   "file_extension": ".py",
   "mimetype": "text/x-python",
   "name": "python",
   "nbconvert_exporter": "python",
   "pygments_lexer": "ipython2",
   "version": "2.7.12"
  }
 },
 "nbformat": 4,
 "nbformat_minor": 0
}
