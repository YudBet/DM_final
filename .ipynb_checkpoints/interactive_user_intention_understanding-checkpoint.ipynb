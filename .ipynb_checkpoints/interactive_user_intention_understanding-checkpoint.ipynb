{
 "cells": [
  {
   "cell_type": "code",
   "execution_count": 1,
   "metadata": {
    "collapsed": false
   },
   "outputs": [
    {
     "name": "stdout",
     "output_type": "stream",
     "text": [
      "[[ 0.  0.  0.  1.  1.  0.  0.  0.  0.  0.]\n",
      " [ 0.  0.  0.  0.  0.  0.  0.  0.  0.  0.]\n",
      " [ 0.  0.  0.  0.  0.  0.  0.  0.  0.  0.]\n",
      " [ 0.  0.  0.  0.  0.  0.  0.  0.  0.  0.]\n",
      " [ 0.  0.  1.  0.  0.  0.  0.  0.  0.  0.]\n",
      " [ 0.  0.  0.  0.  0.  0.  0.  0.  1.  0.]\n",
      " [ 1.  0.  0.  0.  0.  0.  0.  0.  0.  1.]\n",
      " [ 0.  0.  0.  0.  1.  0.  0.  0.  0.  0.]\n",
      " [ 0.  1.  0.  0.  0.  0.  0.  1.  0.  0.]\n",
      " [ 0.  0.  0.  1.  0.  0.  0.  0.  0.  0.]]\n"
     ]
    }
   ],
   "source": [
    "from scipy import sparse\n",
    "\n",
    "def gen_rand_sparse_mat(m, n, density):\n",
    "    M = sparse.rand(m, n, density=density)\n",
    "    M.data[:] = 1\n",
    "    return M\n",
    "\n",
    "X = gen_rand_sparse_mat(10, 10, 0.1)\n",
    "print X.toarray()"
   ]
  },
  {
   "cell_type": "code",
   "execution_count": 10,
   "metadata": {
    "collapsed": false
   },
   "outputs": [
    {
     "name": "stdout",
     "output_type": "stream",
     "text": [
      "[[ 0.  0.  0.  0.  0.  0.  0.  0.  0.  0.]\n",
      " [ 0.  1.  0.  0.  0.  0.  0.  0.  0.  0.]\n",
      " [ 0.  0.  0.  0.  1.  0.  1.  0.  0.  0.]\n",
      " [ 0.  0.  0.  0.  1.  0.  0.  0.  0.  0.]\n",
      " [ 0.  1.  0.  0.  0.  0.  0.  0.  0.  0.]\n",
      " [ 0.  0.  0.  0.  1.  0.  0.  0.  1.  0.]\n",
      " [ 0.  0.  0.  0.  0.  0.  0.  0.  0.  0.]\n",
      " [ 0.  0.  0.  0.  0.  1.  0.  1.  0.  0.]\n",
      " [ 0.  0.  0.  0.  0.  0.  0.  0.  0.  0.]\n",
      " [ 0.  0.  1.  0.  0.  0.  0.  0.  0.  0.]]\n"
     ]
    }
   ],
   "source": [
    "TAGS = ['A', 'B', 'C', 'D', 'E', 'F', 'G', 'H', 'I', 'J']\n",
    "ITEM_COUNT = 10\n",
    "TAG_COUNT = len(TAGS)\n",
    "DENSITY = 0.1\n",
    "\n",
    "# X: tag matrix\n",
    "# T: maximun number of questions\n",
    "# GAMMA: discount factor\n",
    "X = gen_rand_sparse_mat(ITEM_COUNT, TAG_COUNT, DENSITY)\n",
    "T = 2\n",
    "GAMMA = 0.8\n",
    "\n",
    "print X.toarray()"
   ]
  },
  {
   "cell_type": "code",
   "execution_count": null,
   "metadata": {
    "collapsed": false
   },
   "outputs": [
    {
     "name": "stdout",
     "output_type": "stream",
     "text": [
      "select 1 , X(q):  [ 0.  1.  0.  0.  1.  0.  0.  0.  0.  0.]\n"
     ]
    }
   ],
   "source": [
    "import numpy as np\n",
    "from scipy import sparse\n",
    "\n",
    "def questionSellectionAlgo(X, w, GAMMA):\n",
    "    return 1\n",
    "    \n",
    "# Main algorithm: Interactive Recommandation\n",
    "# Input:\n",
    "#   X: tag matrix\n",
    "#   T: maximun number of questions\n",
    "#   GAMMA: discount factor\n",
    "# Output:\n",
    "#   w: an updated weight vector w^(T)\n",
    "def interactiveRecommandation(X, T, GAMMA):\n",
    "    w = np.ones(ITEM_COUNT)\n",
    "    t = 0\n",
    "    for t in range(T):\n",
    "        q = questionSellectionAlgo(X, w, GAMMA)\n",
    "        X_q = X.toarray()[:, q]\n",
    "        print 'select', TAGS[q], ', X(q): ', X_q\n",
    "        \n",
    "        ans = raw_input('has ' + TAGS[q] + '? (0/1): ')\n",
    "        g = np.ones(ITEM_COUNT)\n",
    "        if ans == '1':\n",
    "            g = X_q\n",
    "        else:\n",
    "            g = (1 - X_q)\n",
    "        g[g == 0] = GAMMA\n",
    "        w = w*g\n",
    "        print 'W: ', w\n",
    "    return w\n",
    "    \n",
    "    \n",
    "interactiveRecommandation(X, T, GAMMA)"
   ]
  },
  {
   "cell_type": "code",
   "execution_count": null,
   "metadata": {
    "collapsed": true
   },
   "outputs": [],
   "source": []
  }
 ],
 "metadata": {
  "kernelspec": {
   "display_name": "Python [Root]",
   "language": "python",
   "name": "Python [Root]"
  },
  "language_info": {
   "codemirror_mode": {
    "name": "ipython",
    "version": 2
   },
   "file_extension": ".py",
   "mimetype": "text/x-python",
   "name": "python",
   "nbconvert_exporter": "python",
   "pygments_lexer": "ipython2",
   "version": "2.7.12"
  }
 },
 "nbformat": 4,
 "nbformat_minor": 0
}
