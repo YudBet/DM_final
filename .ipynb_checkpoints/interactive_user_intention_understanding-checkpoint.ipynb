{
 "cells": [
  {
   "cell_type": "code",
   "execution_count": 1,
   "metadata": {
    "collapsed": false
   },
   "outputs": [
    {
     "name": "stdout",
     "output_type": "stream",
     "text": [
      "[[ 0.  0.  0.  0.  0.  0.  0.  0.  0.  0.]\n",
      " [ 0.  0.  0.  0.  0.  0.  0.  0.  0.  0.]\n",
      " [ 0.  0.  0.  0.  0.  0.  0.  0.  0.  1.]\n",
      " [ 0.  0.  0.  0.  0.  0.  0.  0.  0.  0.]\n",
      " [ 0.  0.  0.  0.  0.  0.  0.  0.  0.  0.]\n",
      " [ 0.  0.  1.  0.  0.  0.  1.  0.  0.  0.]\n",
      " [ 0.  0.  1.  0.  0.  0.  0.  0.  0.  0.]\n",
      " [ 0.  1.  0.  0.  0.  0.  0.  0.  0.  0.]\n",
      " [ 0.  0.  0.  1.  0.  0.  0.  0.  1.  0.]\n",
      " [ 0.  0.  0.  0.  1.  0.  0.  1.  1.  0.]]\n"
     ]
    }
   ],
   "source": [
    "from scipy import sparse\n",
    "\n",
    "def gen_rand_sparse_mat(m, n, density):\n",
    "    M = sparse.rand(m, n, density=density)\n",
    "    M.data[:] = 1\n",
    "    return M\n",
    "\n",
    "X = gen_rand_sparse_mat(10, 10, 0.1)\n",
    "print X.toarray()"
   ]
  },
  {
   "cell_type": "code",
   "execution_count": 2,
   "metadata": {
    "collapsed": false
   },
   "outputs": [
    {
     "name": "stdout",
     "output_type": "stream",
     "text": [
      "[[ 0.  0.  0. ...,  0.  1.  0.]\n",
      " [ 0.  0.  0. ...,  0.  0.  0.]\n",
      " [ 0.  0.  0. ...,  1.  0.  0.]\n",
      " ..., \n",
      " [ 0.  0.  0. ...,  1.  0.  0.]\n",
      " [ 0.  0.  0. ...,  0.  0.  0.]\n",
      " [ 0.  0.  0. ...,  0.  0.  0.]]\n"
     ]
    }
   ],
   "source": [
    "#TAGS = ['A', 'B', 'C', 'D', 'E', 'F', 'G', 'H', 'I', 'J']\n",
    "ITEMS = range(1000)\n",
    "TAGS = range(100)\n",
    "ITEM_COUNT = len(ITEMS)\n",
    "TAG_COUNT = len(TAGS)\n",
    "DENSITY = 0.15\n",
    "\n",
    "# X: tag matrix\n",
    "# T: maximun number of questions\n",
    "# GAMMA: discount factor\n",
    "X = gen_rand_sparse_mat(ITEM_COUNT, TAG_COUNT, DENSITY)\n",
    "T = 5\n",
    "GAMMA = 0.75\n",
    "\n",
    "print X.toarray()"
   ]
  },
  {
   "cell_type": "code",
   "execution_count": 3,
   "metadata": {
    "collapsed": false
   },
   "outputs": [
    {
     "name": "stdout",
     "output_type": "stream",
     "text": [
      "96\n"
     ]
    }
   ],
   "source": [
    "import numpy as np\n",
    "from scipy import sparse\n",
    "\n",
    "def questionSellectionAlgo_greedy(X, w, qs):\n",
    "    X_qs = X.toarray()[:, qs]\n",
    "    E = np.dot(w, X_qs) / ITEM_COUNT\n",
    "    q = np.argmin(np.fabs(E - 0.5))\n",
    "        \n",
    "    return qs[q]\n",
    "    \n",
    "print questionSellectionAlgo_greedy(X, np.ones(ITEM_COUNT), range(TAG_COUNT))"
   ]
  },
  {
   "cell_type": "code",
   "execution_count": 4,
   "metadata": {
    "collapsed": false
   },
   "outputs": [
    {
     "name": "stdout",
     "output_type": "stream",
     "text": [
      "[30, 96]\n"
     ]
    }
   ],
   "source": [
    "import itertools\n",
    "\n",
    "def questionSellectionAlgo_ihs(X, GAMMA, w, qs, k):\n",
    "    ls = (((np.array(range(2**k))[:,None] & (1 << np.arange(k)))) > 0).astype(int)\n",
    "    qks = [qk for qk in itertools.combinations(qs, k)]\n",
    "    \n",
    "    min_ls = []\n",
    "    for qk in qks:   \n",
    "        X_qk = X.toarray()[:, [qs[q] for q in qk]].astype(int)\n",
    "        \n",
    "        ls_ds = []\n",
    "        for l in ls:\n",
    "            dcs = [np.bitwise_xor(l, X_qki).sum() for X_qki in X_qk]\n",
    "            d = (w*[1 - GAMMA**dc for dc in dcs]).sum()\n",
    "            ls_ds.append(d)\n",
    "        min_ls.append(np.min(ls_ds))\n",
    "    \n",
    "    Q = np.argmax(min_ls)\n",
    "    \n",
    "    return [qs[q] for q in qks[Q]]\n",
    "\n",
    "print questionSellectionAlgo_ihs(X, GAMMA, np.ones(ITEM_COUNT), range(TAG_COUNT), 2)"
   ]
  },
  {
   "cell_type": "code",
   "execution_count": 5,
   "metadata": {
    "collapsed": false
   },
   "outputs": [
    {
     "ename": "TypeError",
     "evalue": "cannot concatenate 'str' and 'int' objects",
     "output_type": "error",
     "traceback": [
      "\u001b[1;31m\u001b[0m",
      "\u001b[1;31mTypeError\u001b[0mTraceback (most recent call last)",
      "\u001b[1;32m<ipython-input-5-8a3e5ede03bb>\u001b[0m in \u001b[0;36m<module>\u001b[1;34m()\u001b[0m\n\u001b[0;32m     21\u001b[0m     \u001b[1;32mreturn\u001b[0m \u001b[0mw\u001b[0m\u001b[1;33m\u001b[0m\u001b[0m\n\u001b[0;32m     22\u001b[0m \u001b[1;33m\u001b[0m\u001b[0m\n\u001b[1;32m---> 23\u001b[1;33m \u001b[0minteractiveRecommandation\u001b[0m\u001b[1;33m(\u001b[0m\u001b[0mX\u001b[0m\u001b[1;33m,\u001b[0m \u001b[0mT\u001b[0m\u001b[1;33m,\u001b[0m \u001b[0mGAMMA\u001b[0m\u001b[1;33m)\u001b[0m\u001b[1;33m\u001b[0m\u001b[0m\n\u001b[0m",
      "\u001b[1;32m<ipython-input-5-8a3e5ede03bb>\u001b[0m in \u001b[0;36minteractiveRecommandation\u001b[1;34m(X, T, GAMMA)\u001b[0m\n\u001b[0;32m     10\u001b[0m         \u001b[0mX_q\u001b[0m \u001b[1;33m=\u001b[0m \u001b[0mX\u001b[0m\u001b[1;33m.\u001b[0m\u001b[0mtoarray\u001b[0m\u001b[1;33m(\u001b[0m\u001b[1;33m)\u001b[0m\u001b[1;33m[\u001b[0m\u001b[1;33m:\u001b[0m\u001b[1;33m,\u001b[0m \u001b[0mq\u001b[0m\u001b[1;33m]\u001b[0m\u001b[1;33m\u001b[0m\u001b[0m\n\u001b[0;32m     11\u001b[0m \u001b[1;33m\u001b[0m\u001b[0m\n\u001b[1;32m---> 12\u001b[1;33m         \u001b[0mans\u001b[0m \u001b[1;33m=\u001b[0m \u001b[0mraw_input\u001b[0m\u001b[1;33m(\u001b[0m\u001b[1;34m'has '\u001b[0m \u001b[1;33m+\u001b[0m \u001b[0mTAGS\u001b[0m\u001b[1;33m[\u001b[0m\u001b[0mq\u001b[0m\u001b[1;33m]\u001b[0m \u001b[1;33m+\u001b[0m \u001b[1;34m'? (0/1): '\u001b[0m\u001b[1;33m)\u001b[0m\u001b[1;33m\u001b[0m\u001b[0m\n\u001b[0m\u001b[0;32m     13\u001b[0m         \u001b[0mg\u001b[0m \u001b[1;33m=\u001b[0m \u001b[0mnp\u001b[0m\u001b[1;33m.\u001b[0m\u001b[0mones\u001b[0m\u001b[1;33m(\u001b[0m\u001b[0mITEM_COUNT\u001b[0m\u001b[1;33m)\u001b[0m\u001b[1;33m\u001b[0m\u001b[0m\n\u001b[0;32m     14\u001b[0m         \u001b[1;32mif\u001b[0m \u001b[0mans\u001b[0m \u001b[1;33m==\u001b[0m \u001b[1;34m'1'\u001b[0m\u001b[1;33m:\u001b[0m\u001b[1;33m\u001b[0m\u001b[0m\n",
      "\u001b[1;31mTypeError\u001b[0m: cannot concatenate 'str' and 'int' objects"
     ]
    }
   ],
   "source": [
    "\n",
    "def interactiveRecommandation(X, T, GAMMA):\n",
    "    r_qs = np.array(range(TAG_COUNT)) # remain questions: had not asked\n",
    "    w = np.ones(ITEM_COUNT)\n",
    "    t = 0\n",
    "    for t in range(T):\n",
    "        q = questionSellectionAlgo_greedy(X, w, r_qs)\n",
    "        r_qs = r_qs[r_qs != q]\n",
    "        \n",
    "        X_q = X.toarray()[:, q]\n",
    "        \n",
    "        ans = raw_input('has ' + str(TAGS[q]) + '? (0/1): ')\n",
    "        g = np.ones(ITEM_COUNT)\n",
    "        if ans == '1':\n",
    "            g = X_q\n",
    "        else:\n",
    "            g = (1 - X_q)\n",
    "        g[g == 0] = GAMMA\n",
    "        w = w*g\n",
    "        print 'W: ', w\n",
    "    return w\n",
    "\n",
    "interactiveRecommandation(X, T, GAMMA)"
   ]
  }
 ],
 "metadata": {
  "kernelspec": {
   "display_name": "Python [Root]",
   "language": "python",
   "name": "Python [Root]"
  },
  "language_info": {
   "codemirror_mode": {
    "name": "ipython",
    "version": 2
   },
   "file_extension": ".py",
   "mimetype": "text/x-python",
   "name": "python",
   "nbconvert_exporter": "python",
   "pygments_lexer": "ipython2",
   "version": "2.7.12"
  }
 },
 "nbformat": 4,
 "nbformat_minor": 0
}
