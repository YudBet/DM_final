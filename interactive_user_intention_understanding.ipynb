{
 "cells": [
  {
   "cell_type": "code",
   "execution_count": 1,
   "metadata": {
    "collapsed": false
   },
   "outputs": [
    {
     "name": "stdout",
     "output_type": "stream",
     "text": [
      "[[ 0.  1.  0.  0.  0.  0.  0.  0.  0.  1.]\n",
      " [ 0.  0.  0.  0.  0.  0.  1.  0.  0.  0.]\n",
      " [ 0.  0.  0.  0.  0.  0.  0.  0.  0.  0.]\n",
      " [ 0.  0.  0.  0.  0.  0.  0.  0.  0.  0.]\n",
      " [ 1.  0.  0.  0.  0.  0.  0.  0.  0.  1.]\n",
      " [ 0.  0.  0.  0.  0.  0.  0.  0.  0.  0.]\n",
      " [ 0.  0.  0.  0.  0.  0.  0.  0.  1.  0.]\n",
      " [ 0.  0.  0.  1.  0.  0.  0.  0.  1.  0.]\n",
      " [ 0.  0.  0.  0.  0.  0.  0.  0.  0.  0.]\n",
      " [ 0.  0.  0.  0.  0.  0.  0.  0.  1.  1.]]\n"
     ]
    }
   ],
   "source": [
    "from scipy import sparse\n",
    "\n",
    "def gen_rand_sparse_mat(m, n, density):\n",
    "    M = sparse.rand(m, n, density=density)\n",
    "    M.data[:] = 1\n",
    "    return M\n",
    "\n",
    "X = gen_rand_sparse_mat(10, 10, 0.1)\n",
    "print X.toarray()"
   ]
  },
  {
   "cell_type": "code",
   "execution_count": 2,
   "metadata": {
    "collapsed": false
   },
   "outputs": [
    {
     "name": "stdout",
     "output_type": "stream",
     "text": [
      "[[ 0.  0.  0.  0.  0.  0.  0.  1.  0.  0.]\n",
      " [ 0.  1.  1.  1.  0.  0.  0.  0.  0.  0.]\n",
      " [ 0.  0.  0.  0.  0.  0.  1.  0.  0.  0.]\n",
      " [ 0.  0.  1.  0.  0.  1.  0.  0.  0.  0.]\n",
      " [ 0.  0.  0.  1.  0.  0.  0.  0.  1.  0.]\n",
      " [ 1.  0.  0.  0.  0.  0.  0.  0.  0.  0.]\n",
      " [ 1.  0.  1.  1.  0.  0.  0.  0.  0.  1.]\n",
      " [ 0.  0.  0.  0.  1.  1.  0.  0.  0.  0.]\n",
      " [ 1.  1.  0.  0.  0.  0.  0.  0.  0.  0.]\n",
      " [ 0.  0.  0.  0.  0.  0.  0.  1.  0.  0.]\n",
      " [ 0.  0.  0.  0.  0.  0.  0.  0.  0.  0.]\n",
      " [ 1.  0.  0.  0.  0.  1.  0.  0.  0.  1.]\n",
      " [ 0.  0.  0.  0.  0.  0.  0.  0.  0.  0.]\n",
      " [ 0.  1.  0.  0.  0.  0.  0.  0.  1.  0.]\n",
      " [ 0.  0.  0.  0.  0.  0.  0.  1.  0.  0.]\n",
      " [ 0.  0.  0.  0.  1.  0.  0.  1.  0.  0.]\n",
      " [ 0.  0.  0.  1.  0.  0.  0.  0.  0.  0.]\n",
      " [ 0.  0.  0.  0.  0.  0.  0.  0.  1.  0.]\n",
      " [ 0.  0.  0.  0.  0.  0.  0.  0.  0.  0.]\n",
      " [ 0.  1.  0.  0.  0.  0.  0.  0.  0.  0.]]\n"
     ]
    }
   ],
   "source": [
    "TAGS = ['A', 'B', 'C', 'D', 'E', 'F', 'G', 'H', 'I', 'J']\n",
    "ITEM_COUNT = 20\n",
    "TAG_COUNT = len(TAGS)\n",
    "DENSITY = 0.15\n",
    "\n",
    "# X: tag matrix\n",
    "# T: maximun number of questions\n",
    "# GAMMA: discount factor\n",
    "X = gen_rand_sparse_mat(ITEM_COUNT, TAG_COUNT, DENSITY)\n",
    "T = 5\n",
    "GAMMA = 0.75\n",
    "\n",
    "print X.toarray()"
   ]
  },
  {
   "cell_type": "code",
   "execution_count": 3,
   "metadata": {
    "collapsed": false
   },
   "outputs": [
    {
     "name": "stdout",
     "output_type": "stream",
     "text": [
      "0\n"
     ]
    }
   ],
   "source": [
    "import numpy as np\n",
    "from scipy import sparse\n",
    "\n",
    "def questionSellectionAlgo_greedy(X, w, qs):\n",
    "    X_qs = X.toarray()[:, qs]\n",
    "    E = np.dot(w, X_qs) / ITEM_COUNT\n",
    "    q = np.argmin(np.fabs(E - 0.5))\n",
    "        \n",
    "    return qs[q]\n",
    "    \n",
    "print questionSellectionAlgo_greedy(X, np.ones(ITEM_COUNT), range(TAG_COUNT))"
   ]
  },
  {
   "cell_type": "code",
   "execution_count": 4,
   "metadata": {
    "collapsed": false,
    "scrolled": false
   },
   "outputs": [
    {
     "name": "stdout",
     "output_type": "stream",
     "text": [
      "select A , X(q):  [ 0.  0.  0.  0.  0.  1.  1.  0.  1.  0.  0.  1.  0.  0.  0.  0.  0.  0.\n",
      "  0.  0.]\n",
      "has A? (0/1): 1\n",
      "W:  [ 0.75  0.75  0.75  0.75  0.75  1.    1.    0.75  1.    0.75  0.75  1.\n",
      "  0.75  0.75  0.75  0.75  0.75  0.75  0.75  0.75]\n",
      "select B , X(q):  [ 0.  1.  0.  0.  0.  0.  0.  0.  1.  0.  0.  0.  0.  1.  0.  0.  0.  0.\n",
      "  0.  1.]\n",
      "has B? (0/1): 1\n",
      "W:  [ 0.5625  0.75    0.5625  0.5625  0.5625  0.75    0.75    0.5625  1.\n",
      "  0.5625  0.5625  0.75    0.5625  0.75    0.5625  0.5625  0.5625  0.5625\n",
      "  0.5625  0.75  ]\n",
      "select D , X(q):  [ 0.  1.  0.  0.  1.  0.  1.  0.  0.  0.  0.  0.  0.  0.  0.  0.  1.  0.\n",
      "  0.  0.]\n",
      "has D? (0/1): 1\n",
      "W:  [ 0.421875  0.75      0.421875  0.421875  0.5625    0.5625    0.75\n",
      "  0.421875  0.75      0.421875  0.421875  0.5625    0.421875  0.5625\n",
      "  0.421875  0.421875  0.5625    0.421875  0.421875  0.5625  ]\n",
      "select C , X(q):  [ 0.  1.  0.  1.  0.  0.  1.  0.  0.  0.  0.  0.  0.  0.  0.  0.  0.  0.\n",
      "  0.  0.]\n",
      "has C? (0/1): 1\n",
      "W:  [ 0.31640625  0.75        0.31640625  0.421875    0.421875    0.421875\n",
      "  0.75        0.31640625  0.5625      0.31640625  0.31640625  0.421875\n",
      "  0.31640625  0.421875    0.31640625  0.31640625  0.421875    0.31640625\n",
      "  0.31640625  0.421875  ]\n",
      "select H , X(q):  [ 1.  0.  0.  0.  0.  0.  0.  0.  0.  1.  0.  0.  0.  0.  1.  1.  0.  0.\n",
      "  0.  0.]\n",
      "has H? (0/1): 1\n",
      "W:  [ 0.31640625  0.5625      0.23730469  0.31640625  0.31640625  0.31640625\n",
      "  0.5625      0.23730469  0.421875    0.31640625  0.23730469  0.31640625\n",
      "  0.23730469  0.31640625  0.31640625  0.31640625  0.31640625  0.23730469\n",
      "  0.23730469  0.31640625]\n"
     ]
    },
    {
     "data": {
      "text/plain": [
       "array([ 0.31640625,  0.5625    ,  0.23730469,  0.31640625,  0.31640625,\n",
       "        0.31640625,  0.5625    ,  0.23730469,  0.421875  ,  0.31640625,\n",
       "        0.23730469,  0.31640625,  0.23730469,  0.31640625,  0.31640625,\n",
       "        0.31640625,  0.31640625,  0.23730469,  0.23730469,  0.31640625])"
      ]
     },
     "execution_count": 4,
     "metadata": {},
     "output_type": "execute_result"
    }
   ],
   "source": [
    "\n",
    "def interactiveRecommandation(X, T, GAMMA):\n",
    "    r_qs = np.array(range(TAG_COUNT)) # remain questions: had not asked\n",
    "    w = np.ones(ITEM_COUNT)\n",
    "    t = 0\n",
    "    for t in range(T):\n",
    "        q = questionSellectionAlgo_greedy(X, w, r_qs)\n",
    "        r_qs = r_qs[r_qs != q]\n",
    "        \n",
    "        X_q = X.toarray()[:, q]\n",
    "        print 'select', TAGS[q], ', X(q): ', X_q\n",
    "        \n",
    "        ans = raw_input('has ' + TAGS[q] + '? (0/1): ')\n",
    "        g = np.ones(ITEM_COUNT)\n",
    "        if ans == '1':\n",
    "            g = X_q\n",
    "        else:\n",
    "            g = (1 - X_q)\n",
    "        g[g == 0] = GAMMA\n",
    "        w = w*g\n",
    "        print 'W: ', w\n",
    "    return w\n",
    "\n",
    "interactiveRecommandation(X, T, GAMMA)"
   ]
  }
 ],
 "metadata": {
  "kernelspec": {
   "display_name": "Python [Root]",
   "language": "python",
   "name": "Python [Root]"
  },
  "language_info": {
   "codemirror_mode": {
    "name": "ipython",
    "version": 2
   },
   "file_extension": ".py",
   "mimetype": "text/x-python",
   "name": "python",
   "nbconvert_exporter": "python",
   "pygments_lexer": "ipython2",
   "version": "2.7.12"
  }
 },
 "nbformat": 4,
 "nbformat_minor": 0
}
